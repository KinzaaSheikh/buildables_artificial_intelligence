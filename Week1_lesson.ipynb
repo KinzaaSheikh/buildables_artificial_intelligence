{
  "cells": [
    {
      "cell_type": "markdown",
      "id": "d66f0500",
      "metadata": {
        "id": "d66f0500"
      },
      "source": [
        "# 🚀 **Introduction to APIs and LLMs with Python**\n",
        "\n",
        "Welcome! 👋  \n",
        "In this notebook, we will learn the basics of AI (Artificial Intelligence), LLMs (Large Language Models), APIs (Application Programming Interfaces).\n",
        "\n",
        "By the end of this notebook, you will:  \n",
        "- What is AI.  \n",
        "- What are LLM.  \n",
        "- What are API.\n",
        "- Jupyter notebook or Google colab.\n",
        "- Save and share your notebook using GitHub.  \n",
        "\n",
        "Let’s begin 🚀\n"
      ]
    },
    {
      "cell_type": "markdown",
      "id": "cbf80d1c",
      "metadata": {
        "id": "cbf80d1c"
      },
      "source": [
        "# 🌟 But first start with some basic recap!🌟"
      ]
    },
    {
      "cell_type": "markdown",
      "id": "83150a22",
      "metadata": {
        "id": "83150a22"
      },
      "source": [
        "---\n",
        "\n",
        "### ❗ **Question 1**: What is Artificial Intelligence (AI)?"
      ]
    },
    {
      "cell_type": "markdown",
      "id": "73b74016",
      "metadata": {
        "id": "73b74016"
      },
      "source": [
        "👉 Artificial Intelligence (AI) means teaching computers to think and act like humans.\n",
        "\n",
        "Just like we use our brain to learn, solve problems, and make decisions, AI helps computers do the same.\n",
        "\n",
        "For example:\n",
        "\n",
        "1) When you talk to Siri or Alexa and they answer you → that’s AI.\n",
        "\n",
        "2) When YouTube shows you videos you may like → that’s AI.\n",
        "\n",
        "3) When a self-driving car follows the road → that’s AI.\n",
        "\n",
        "So, AI is like giving a computer a mini brain to understand, learn, and decide. OR in simple words AI is just automation...\n",
        "\n",
        "---"
      ]
    },
    {
      "cell_type": "markdown",
      "id": "0fa29b08",
      "metadata": {
        "id": "0fa29b08"
      },
      "source": [
        "### 💡 **Quick Questions**:"
      ]
    },
    {
      "cell_type": "markdown",
      "id": "202be2da",
      "metadata": {
        "id": "202be2da"
      },
      "source": [
        "1. Do yo think AI should be defined by how it is built, or by what it can do? Why?\n",
        "\n",
        "- Answer 👉 Personally I think AI should be defined based on what it can do. The real goal is not to make generative models stronger the real goal is man-made intelligence"
      ]
    },
    {
      "cell_type": "markdown",
      "id": "a798c03b",
      "metadata": {
        "id": "a798c03b"
      },
      "source": [
        "2. Today's AI is mostly narrow AI (like bots, recommendation systems, etc). What do you think true 'general AI' would look like - and how close are we to it?\n",
        "\n",
        "- Answer 👉 I feel like AI's scope would always remain narrow in its capabilities. But the narrow problems that AI would solve would keep expanding until most of our everyday tasks can be done using AI"
      ]
    },
    {
      "cell_type": "markdown",
      "id": "b5587b81",
      "metadata": {
        "id": "b5587b81"
      },
      "source": [
        "3. Can AI ‘understand’ things the way humans do, or is it just simulating understanding?\n",
        "\n",
        "- Answer 👉 As Apple's recent research paper also proves, but I always had a hunch, AI is just pretending at this point. I don't think this is going to change anytime soon but in general its just pretending."
      ]
    },
    {
      "cell_type": "markdown",
      "id": "aa230e0f",
      "metadata": {
        "id": "aa230e0f"
      },
      "source": [
        "4. If an AI system makes a decision that harms someone, who should be responsible: the AI, the developer, or the user?\n",
        "\n",
        "- Answer 👉 AI won't be the responsible party. But both the user and the creator would in some sense hold responsibility."
      ]
    },
    {
      "cell_type": "markdown",
      "id": "e18502d3",
      "metadata": {
        "id": "e18502d3"
      },
      "source": [
        "5. Should AI be allowed to make decisions in areas like healthcare, hiring, or law? Why or why not?\n",
        "\n",
        "- Answer 👉 I think AI should never be allowed to make decisions. There should always be a human in the loop. AI can do the work but human should be needed to act as the manager of AIs."
      ]
    },
    {
      "cell_type": "markdown",
      "id": "5d3c001a",
      "metadata": {
        "id": "5d3c001a"
      },
      "source": [
        "6. If an AI composes music or paints artwork, who owns the rights — the AI, the programmer, or nobody?\n",
        "\n",
        "- Answer 👉 AI art would eventually become part of what we generally call art. Not replaces human art, but a regular part of our everyday experience. Just like the expansion from normal art to digital art didn't change the ownership, AI art should also be the artist's."
      ]
    },
    {
      "cell_type": "markdown",
      "id": "d7ad6c92",
      "metadata": {
        "id": "d7ad6c92"
      },
      "source": [
        "7. Which jobs do you think AI will change the most in the next 10 years, and which jobs are the hardest for AI to replace?\n",
        "\n",
        "- Answer 👉 Programming is already changing. Most of the management work would also change. As of now the hardest to replace jobs feel like higher management roles which used to dictate to humans but would now just dictate to AI what is the customer requirements."
      ]
    },
    {
      "cell_type": "markdown",
      "id": "227be13c",
      "metadata": {
        "id": "227be13c"
      },
      "source": [
        "8. Would you trust an AI to drive your car, perform surgery, or grade your exams? Why or why not?\n",
        "\n",
        "- Answer 👉 As someone who knows that in the background its just tensors, I would trust it. But not yet, we still have a long way to go."
      ]
    },
    {
      "cell_type": "markdown",
      "metadata": {
        "id": "GQ9uLaFtf_oE"
      },
      "source": [
        "----\n",
        "\n",
        "### ❗ **Question 2**: What are LLMs?"
      ],
      "id": "GQ9uLaFtf_oE"
    },
    {
      "cell_type": "markdown",
      "id": "8d5c4ce8",
      "metadata": {
        "id": "8d5c4ce8"
      },
      "source": [
        "👉 LLMs means Large Language Models.\n",
        "\n",
        "They are special computer programs that can read, understand, and write human language (like English, Urdu, or any other).\n",
        "\n",
        "🧠 How do they process and generate text?\n",
        "\n",
        "Think of it like this:\n",
        "\n",
        "1) Learning stage 📚\n",
        "\n",
        "    - The LLM reads a lot of books, websites, stories, and articles.\n",
        "\n",
        "    - From this, it learns how words are used and which words usually come after each other.\n",
        "\n",
        "2) Understanding stage 👂\n",
        "\n",
        "    - When you ask a question (like “What is the sky’s color?”), it looks at the words carefully.\n",
        "\n",
        "3) Writing stage ✍️\n",
        "\n",
        "    - It then guesses the next word step by step.\n",
        "\n",
        "    - Example: If you say, “The sky is…”\n",
        "    → It has seen many times that the next word is “blue.”\n",
        "\n",
        "    - So it answers: “The sky is blue.”"
      ]
    },
    {
      "cell_type": "markdown",
      "id": "ebfb9536",
      "metadata": {
        "id": "ebfb9536"
      },
      "source": [
        "🌈 Easy way to remember\n",
        "\n",
        "LLM is like a super-smart parrot 🦜:\n",
        "\n",
        "- It has read millions of books.\n",
        "\n",
        "- When you talk to it, it replies by picking the best words it learned before.\n",
        "\n",
        "---"
      ]
    },
    {
      "cell_type": "markdown",
      "id": "40a28289",
      "metadata": {
        "id": "40a28289"
      },
      "source": [
        "### 💡 **Quick Questions**"
      ]
    },
    {
      "cell_type": "markdown",
      "id": "8f09b3f4",
      "metadata": {
        "id": "8f09b3f4"
      },
      "source": [
        "1. What is one task that LLMs perform surprisingly well, and one task where they still struggle — and why do you think that is?\n",
        "\n",
        "- Answer 👉 LLMs are text regurgitators so they are good at speaking a lot but they often lack context. So email answering, customer queries, these are the tasks we can assign to LLM relatively easily. But solving actual problem with autonomy, the real goal of AI, is something that still has a lot of limitations."
      ]
    },
    {
      "cell_type": "markdown",
      "id": "5d57a758",
      "metadata": {
        "id": "5d57a758"
      },
      "source": [
        "2. If an LLM gives a very confident but wrong answer, should we call that a ‘mistake’ like in humans, or something else? Why?\n",
        "\n",
        "- Answer 👉 The term commonly used is a good one actually, hallucination."
      ]
    },
    {
      "cell_type": "markdown",
      "id": "e64f4bae",
      "metadata": {
        "id": "e64f4bae"
      },
      "source": [
        "3. Do you think LLMs will replace programmers, or just change the way programming is done? Why?\n",
        "\n",
        "- Answer 👉 It will just change the way programming is done because code regurtitators and problem solvers are two different things."
      ]
    },
    {
      "cell_type": "markdown",
      "id": "eacb03e9",
      "metadata": {
        "id": "eacb03e9"
      },
      "source": [
        "4. Humans learn language from relatively little data compared to LLMs, which need billions of words. Why do you think humans are so much more data-efficient?\n",
        "\n",
        "- Answer 👉 Our brains are wired differently."
      ]
    },
    {
      "cell_type": "markdown",
      "id": "81c628d5",
      "metadata": {
        "id": "81c628d5"
      },
      "source": [
        "5. When an LLM generates a poem or a story, would you call it ‘creative’? Why or why not?\n",
        "\n",
        "- Answer 👉 Creative because regardless of how it achieves it, it still can create new connections that makes what it produces novel."
      ]
    },
    {
      "cell_type": "markdown",
      "metadata": {
        "id": "s0LobtB_f_oH"
      },
      "source": [
        "6. If you ask the same LLM the same question multiple times, you might get different answers. What does this tell us about how LLMs generate text?\n",
        "\n",
        "- Answer 👉 LLM is not just restating data it has but doing internal computations on it and creating new connections all the time"
      ],
      "id": "s0LobtB_f_oH"
    },
    {
      "cell_type": "markdown",
      "id": "1ef6eb41",
      "metadata": {
        "id": "1ef6eb41"
      },
      "source": [
        "---\n",
        "\n",
        "### ❗ **Question 3**: What are APIs?"
      ]
    },
    {
      "cell_type": "markdown",
      "id": "8d2479b1",
      "metadata": {
        "id": "8d2479b1"
      },
      "source": [
        "👉 API means Application Programming Interface.\n",
        "\n",
        "That sounds big, but here’s the simple meaning:\n",
        "\n",
        "An API is like a waiter in a restaurant. 🍽️\n",
        "\n",
        "* You (the customer) tell the waiter what food you want.\n",
        "* The waiter takes your order to the kitchen (the system).\n",
        "* The kitchen makes the food.\n",
        "* The waiter brings the food back to you.\n",
        "\n",
        "👉 In the same way:\n",
        "\n",
        "* You (the user) send a request through an API.\n",
        "* The computer/server prepares the data.\n",
        "* The API brings the data back to you.\n",
        "\n",
        "🖥️ Example:\n",
        "\n",
        "* If you want to know today’s **weather**, you ask the **Weather API**.\n",
        "* The API goes to the weather database, finds the answer, and gives it back to you.\n",
        "* So yophone ur app shows: *“It’s 30°C and sunny ☀️.”*\n",
        "\n",
        "\n",
        "🌈 Easy way to remember:\n",
        "\n",
        "API = Middleman/helper -> that carries your request and brings back the answer."
      ]
    },
    {
      "cell_type": "markdown",
      "metadata": {
        "id": "bm2DZxHof_oI"
      },
      "source": [
        "---\n",
        "\n",
        "### ❗ **Question 4**: What is role of APIs in Automation?"
      ],
      "id": "bm2DZxHof_oI"
    },
    {
      "cell_type": "markdown",
      "id": "284fd0c9",
      "metadata": {
        "id": "284fd0c9"
      },
      "source": [
        "🌟 Role of APIs in Automation\n",
        "\n",
        "👉 Automation means making machines do work automatically (without humans doing every step).\n",
        "\n",
        "👉 APIs help automation by letting different programs talk to each other and share information."
      ]
    },
    {
      "cell_type": "markdown",
      "id": "05768a01",
      "metadata": {
        "id": "05768a01"
      },
      "source": [
        "🖥️ Example 1: Using Weather API\n",
        "\n",
        "* Imagine you want to see the weather every morning.\n",
        "* Without API → You would open the website, search, and read.\n",
        "* With API → A program can **automatically** ask the weather API and show:\n",
        "\n",
        "  *“Good morning! Today is sunny ☀️.”*\n",
        "  \n",
        "  ➡️ You don’t have to do anything — it’s automatic!\n"
      ]
    },
    {
      "cell_type": "markdown",
      "id": "9e31d6be",
      "metadata": {
        "id": "9e31d6be"
      },
      "source": [
        "🧠 Example 2: Accessing LLMs (like ChatGPT) through API\n",
        "\n",
        "* LLM (Large Language Model) is like a **big smart brain** on a server.\n",
        "* But that brain doesn’t live on your computer — it’s far away (in the cloud).\n",
        "* **API** is the bridge 🌉 that lets your app talk to that brain.\n",
        "\n",
        "👉 Steps:\n",
        "\n",
        "1. You type a question in your app → “Tell me a story about a dragon.” 🐉\n",
        "2. Your app sends this request through the **API** to the LLM.\n",
        "3. The LLM thinks and writes a story.\n",
        "4. The **API brings back** the story to your app.\n",
        "\n",
        "➡️ This way, you can use the smart LLM **remotely** (from anywhere) without installing it on your computer."
      ]
    },
    {
      "cell_type": "markdown",
      "id": "281ade04",
      "metadata": {
        "id": "281ade04"
      },
      "source": [
        "🌈 Easy way to remember\n",
        "\n",
        "**API is like a magic pipe** 🔌:\n",
        "\n",
        "* One side: You put in your request.\n",
        "* Other side: You get back the answer.\n",
        "\n",
        "---"
      ]
    },
    {
      "cell_type": "markdown",
      "id": "b27abf4f",
      "metadata": {
        "id": "b27abf4f"
      },
      "source": [
        "### 💡 **Quick Questions**"
      ]
    },
    {
      "cell_type": "markdown",
      "metadata": {
        "id": "T5_9Mo-Sf_oK"
      },
      "source": [
        "1. If an AI model is huge and cannot run on your laptop, how can an API make it usable for you?\n",
        "\n",
        "- Answer 👉 Model would run on the cloud but API would create an interface that lets me connect to the model and use in my relatively small codebase to solve my specific problem"
      ],
      "id": "T5_9Mo-Sf_oK"
    },
    {
      "cell_type": "markdown",
      "id": "76728b8c",
      "metadata": {
        "id": "76728b8c"
      },
      "source": [
        "2. Why do most AI companies (like OpenAI, Hugging Face, Google) provide APIs instead of letting people directly download their models?\n",
        "\n",
        "- Answer 👉 There are two reasons. First is that they simply don't want to share the underlying infrastructure that let them build those APIs, but also because it makes our work compute intensive while we can easily abstract away the LLM part in our workflow."
      ]
    },
    {
      "cell_type": "markdown",
      "id": "e50ac81d",
      "metadata": {
        "id": "e50ac81d"
      },
      "source": [
        "3. Why do you think API rate limits exist? How does it affect AI usage?\n",
        "\n",
        "- Answer 👉 To keep costs in a leash rate limits are required but sometimes it makes for wonky issues like an LLM getting cut of at a certain word sharp, whether its mid sentence"
      ]
    },
    {
      "cell_type": "markdown",
      "id": "a81ad685",
      "metadata": {
        "id": "a81ad685"
      },
      "source": [
        "4. How would you handle an API error like 429 Too Many Requests in your code?\n",
        "\n",
        "- Answer 👉 I would maybe create a workflow with multiple APIs or increase the rate limit for peak hours."
      ]
    },
    {
      "cell_type": "markdown",
      "id": "e019ae9e",
      "metadata": {
        "id": "e019ae9e"
      },
      "source": [
        "---\n",
        "\n",
        "## 🌟 How it all connects 🤝\n",
        "\n",
        "* **AI** = The smart brain.\n",
        "* **LLM** = A type of AI that talks like humans.\n",
        "* **API** = The messenger that connects us to AI/LLMs.\n",
        "* **Automation** = The reason we use APIs — to make work happen without us doing it again and again.\n",
        "\n",
        "✨ So, whenever you hear:\n",
        "\n",
        "* **AI** → Smart brain for computers.\n",
        "* **LLM** → AI that talks like humans.\n",
        "* **API** → Messenger/waiter/helper.\n",
        "* **Automation** → Work done automatically.\n",
        "\n",
        "\n",
        "---"
      ]
    },
    {
      "cell_type": "markdown",
      "id": "7c2846e7",
      "metadata": {
        "id": "7c2846e7"
      },
      "source": [
        "## 🐍 Python for API Interaction"
      ]
    },
    {
      "cell_type": "markdown",
      "id": "08f1820a",
      "metadata": {
        "id": "08f1820a"
      },
      "source": [
        "🌟 **1. Using requests to call an API**\n",
        "\n",
        "Python has a library called requests that helps us talk to APIs (send requests and get answers).\n",
        "\n",
        "👉 Example:\n",
        "Let’s get some data from a public API (e.g., a joke API 🤭)."
      ]
    },
    {
      "cell_type": "code",
      "execution_count": null,
      "id": "dbebb5b6",
      "metadata": {
        "id": "dbebb5b6",
        "outputId": "98bdbc9c-dc40-4a1e-bde0-8828174a9a77"
      },
      "outputs": [
        {
          "name": "stdout",
          "output_type": "stream",
          "text": [
            "{\"type\":\"general\",\"setup\":\"What do you do when you see a space man?\",\"punchline\":\"Park your car, man.\",\"id\":227}\n"
          ]
        }
      ],
      "source": [
        "import requests\n",
        "\n",
        "# Send a GET request to the API\n",
        "response = requests.get(\"https://official-joke-api.appspot.com/random_joke\")\n",
        "\n",
        "# Print raw response (text)\n",
        "print(response.text)\n"
      ]
    },
    {
      "cell_type": "markdown",
      "id": "bcdb289c",
      "metadata": {
        "id": "bcdb289c"
      },
      "source": [
        "➡️ This sends a message to the API, and the API replies with data (usually in JSON format)."
      ]
    },
    {
      "cell_type": "markdown",
      "id": "9d28b497",
      "metadata": {
        "id": "9d28b497"
      },
      "source": [
        "🌟 **2. What is JSON?**\n",
        "\n",
        "👉 JSON = JavaScript Object Notation.\n",
        "\n",
        "It’s a way to store and share data.\n",
        "\n",
        "Looks like a dictionary in Python → with keys and values.\n",
        "\n",
        "💡 Example JSON from joke API:"
      ]
    },
    {
      "cell_type": "code",
      "execution_count": null,
      "id": "6b792eb4",
      "metadata": {
        "id": "6b792eb4",
        "outputId": "2e5bc464-9061-4edd-bca1-178480feab65"
      },
      "outputs": [
        {
          "data": {
            "text/plain": [
              "{'id': 123,\n",
              " 'type': 'general',\n",
              " 'setup': 'Why did the computer go to the doctor?',\n",
              " 'punchline': 'Because it caught a virus!'}"
            ]
          },
          "execution_count": 3,
          "metadata": {},
          "output_type": "execute_result"
        }
      ],
      "source": [
        "{\n",
        "  \"id\": 123,\n",
        "  \"type\": \"general\",\n",
        "  \"setup\": \"Why did the computer go to the doctor?\",\n",
        "  \"punchline\": \"Because it caught a virus!\"\n",
        "}"
      ]
    },
    {
      "cell_type": "markdown",
      "id": "e06e3cd1",
      "metadata": {
        "id": "e06e3cd1"
      },
      "source": [
        "🌟 **3. Handling JSON in Python**\n",
        "\n",
        "We use .json() method to turn the API response into a Python dictionary.\n",
        "\n",
        "👉 Example:"
      ]
    },
    {
      "cell_type": "code",
      "execution_count": null,
      "id": "7028a244",
      "metadata": {
        "id": "7028a244"
      },
      "outputs": [],
      "source": [
        "import requests\n",
        "\n",
        "# Call the API\n",
        "response = requests.get(\"https://official-joke-api.appspot.com/random_joke\")\n",
        "\n",
        "# Convert to Python dictionary\n",
        "data = response.json()\n",
        "\n",
        "# Access parts of the JSON\n",
        "print(\"Setup:\", data[\"setup\"])\n",
        "print(\"Punchline:\", data[\"punchline\"])"
      ]
    },
    {
      "cell_type": "markdown",
      "id": "e27f71a2",
      "metadata": {
        "id": "e27f71a2"
      },
      "source": [
        "➡️ The API replies back showing it got your data."
      ]
    },
    {
      "cell_type": "markdown",
      "id": "80c4b744",
      "metadata": {
        "id": "80c4b744"
      },
      "source": [
        "---\n",
        "\n",
        "# **Activities: APIs + Python + LLMs**\n",
        "\n",
        "---\n",
        "\n",
        "**✅ Activity 1: Set up Python Environment**\n",
        "\n",
        "Students can choose **Google Colab** (easiest) or **Local Setup**.\n",
        "\n",
        "**Option A: Google Colab (recommended 🎉)**\n",
        "\n",
        "1. Go to [Google Colab](https://colab.research.google.com/).\n",
        "2. Click **New Notebook**.\n",
        "3. You’re ready to write Python in the cloud ✅.\n",
        "\n",
        "**Option B: Local Setup (for advanced students)**\n",
        "\n",
        "1. Install **Anaconda** → it comes with **Jupyter Notebook**.\n",
        "2. Open **Jupyter Notebook** and start coding.\n",
        "\n",
        "---\n",
        "\n",
        "**✅ Activity 2: Sign Up for Groq API**\n",
        "\n",
        "1. Go to [console.groq.com](https://console.groq.com).\n",
        "2. Make a **free account**.\n",
        "3. Find your **API Key** (a secret password for using Groq).\n",
        "\n",
        "   * Copy it → we’ll use it in Python.\n",
        "   * 🔑 Keep it safe! Never share it publicly.\n",
        "\n",
        "---\n"
      ]
    },
    {
      "cell_type": "markdown",
      "id": "edc0f161",
      "metadata": {
        "id": "edc0f161"
      },
      "source": [
        "# 📘 Groq account, Notebook and GitHub 🗂"
      ]
    },
    {
      "cell_type": "markdown",
      "id": "409a92ee",
      "metadata": {
        "id": "409a92ee"
      },
      "source": [
        "### Part 1: Google Colab (Easiest Path)\n",
        "\n",
        "1. Go to [Google Colab](https://colab.research.google.com/).\n",
        "2. Click **New Notebook** → a fresh page opens.\n",
        "3. In each cell, type Python code → press **Shift + Enter** to run.\n",
        "4. Install libraries inside Colab with `!pip install <package>`\n",
        "\n",
        "💡 Example:"
      ]
    },
    {
      "cell_type": "code",
      "execution_count": 1,
      "id": "2eca7d73",
      "metadata": {
        "colab": {
          "base_uri": "https://localhost:8080/"
        },
        "id": "2eca7d73",
        "outputId": "55d79e4c-ed68-4188-a2fc-d4f1c2984ec6"
      },
      "outputs": [
        {
          "output_type": "stream",
          "name": "stdout",
          "text": [
            "\u001b[?25l   \u001b[90m━━━━━━━━━━━━━━━━━━━━━━━━━━━━━━━━━━━━━━━━\u001b[0m \u001b[32m0.0/131.4 kB\u001b[0m \u001b[31m?\u001b[0m eta \u001b[36m-:--:--\u001b[0m\r\u001b[2K   \u001b[90m━━━━━━━━━━━━━━━━━━━━━━━━━━━━━━━━━━━━━━━━\u001b[0m \u001b[32m131.4/131.4 kB\u001b[0m \u001b[31m3.6 MB/s\u001b[0m eta \u001b[36m0:00:00\u001b[0m\n",
            "\u001b[?25h"
          ]
        }
      ],
      "source": [
        "!pip install -qU groq"
      ]
    },
    {
      "cell_type": "markdown",
      "id": "22f7df5b",
      "metadata": {
        "id": "22f7df5b"
      },
      "source": [
        "### Part 2: Local Setup with Jupyter Notebook\n",
        "\n",
        "**🔹 Step 1: Install Anaconda**\n",
        "\n",
        "* Download [Anaconda](https://www.anaconda.com/products/distribution).\n",
        "* Install it (comes with Python + Jupyter).\n",
        "\n",
        "**🔹 Step 2: Open Jupyter Notebook**\n",
        "\n",
        "* Open **Anaconda Navigator**.\n",
        "* Click **Launch Jupyter Notebook**.\n",
        "* A browser window will open at: `http://localhost:8888/tree`.\n",
        "\n",
        "**🔹 Step 3: Create Notebook**\n",
        "\n",
        "* Click **New → Python 3 Notebook**.\n",
        "* Now write Python code in cells and press **Shift + Enter** to run."
      ]
    },
    {
      "cell_type": "markdown",
      "id": "54c167eb",
      "metadata": {
        "id": "54c167eb"
      },
      "source": [
        "### Part 3: GitHub + Notebooks\n",
        "\n",
        "**🔹 Step 1: Install Git (only once)**\n",
        "\n",
        "* [Download Git](https://git-scm.com/downloads).\n",
        "\n",
        "**🔹 Step 2: Setup GitHub Account**\n",
        "\n",
        "* Sign up at [github.com](https://github.com).\n",
        "* Create a new repository (e.g., `AI-Projects`).\n",
        "\n",
        "**🔹 Step 3: Connect Local Notebook to GitHub**\n",
        "\n",
        "In terminal (or Anaconda Prompt):"
      ]
    },
    {
      "cell_type": "code",
      "execution_count": null,
      "id": "4c5b52cc",
      "metadata": {
        "id": "4c5b52cc"
      },
      "outputs": [],
      "source": [
        "# Navigate to your project folder\n",
        "cd my_notebooks\n",
        "\n",
        "# Initialize Git\n",
        "git init\n",
        "\n",
        "# Add remote repository (replace with your repo link)\n",
        "git remote add origin https://github.com/username/AI-Projects.git\n",
        "\n",
        "# Add your files\n",
        "git add .\n",
        "\n",
        "# Commit changes\n",
        "git commit -m \"First notebook\"\n",
        "\n",
        "# Push to GitHub\n",
        "git push -u origin main"
      ]
    },
    {
      "cell_type": "markdown",
      "id": "45d82863",
      "metadata": {
        "id": "45d82863"
      },
      "source": [
        "\n",
        "### Upload via Website (simpler option)\n",
        "\n",
        "* Go to your repo on GitHub → **Upload Files** → drag & drop your `.ipynb`.\n",
        "\n",
        "### Using Colab with GitHub (Direct)\n",
        "\n",
        "Colab can **open & save notebooks directly to GitHub**:\n",
        "\n",
        "1. In Colab → **File → Save a copy in GitHub**.\n",
        "2. Choose your repo & folder.\n",
        "3. Done ✅\n",
        "\n",
        "<br>\n",
        "\n",
        "---"
      ]
    },
    {
      "cell_type": "markdown",
      "id": "fd431536",
      "metadata": {
        "id": "fd431536"
      },
      "source": [
        "# **🌟Resources🌟**"
      ]
    },
    {
      "cell_type": "markdown",
      "id": "21a6fce7",
      "metadata": {
        "id": "21a6fce7"
      },
      "source": [
        "### 🔹 1. Groq API Documentation\n",
        "\n",
        "* 🌍 [Groq API Docs](https://console.groq.com/docs)\n",
        "* What you’ll learn:\n",
        "  * How to create an API key\n",
        "  * Available models (like **Llama-3**)\n",
        "  * Code examples in Python\n",
        "  * Advanced usage (streaming, parameters, etc.)\n",
        "\n",
        "<br>\n",
        "\n",
        "---\n",
        "\n",
        "<br>\n",
        "\n",
        "### 🔹 2. Python `requests` Library\n",
        "\n",
        "* 🌍 [Requests Documentation](https://requests.readthedocs.io/en/latest/)\n",
        "* What you’ll learn:\n",
        "  * How to make GET and POST requests\n",
        "  * How to handle JSON responses\n",
        "  * How to send headers & parameters\n",
        "  * Real-world API examples\n",
        "\n",
        "<br>\n",
        "\n",
        "---\n",
        "\n",
        "<br>\n",
        "\n",
        "### 🔹 3. JSON Basics (extra help)\n",
        "\n",
        "* 🌍 [W3Schools JSON Tutorial](https://www.w3schools.com/js/js_json_intro.asp)\n",
        "* Simple, beginner-friendly intro to JSON (how data is structured, keys/values, etc.).\n",
        "\n",
        "<br>\n",
        "\n",
        "---\n",
        "\n",
        "<br>\n",
        "\n",
        "## 🔹 4. GitHub Guides (for sharing notebooks)\n",
        "\n",
        "* 🌍 [GitHub Docs: Hello World](https://docs.github.com/en/get-started/quickstart/hello-world)\n",
        "* 🌍 [Uploading files to GitHub](https://docs.github.com/en/repositories/working-with-files/managing-files/adding-a-file-to-a-repository)\n",
        "\n"
      ]
    }
  ],
  "metadata": {
    "kernelspec": {
      "display_name": "Python 3",
      "language": "python",
      "name": "python3"
    },
    "language_info": {
      "codemirror_mode": {
        "name": "ipython",
        "version": 3
      },
      "file_extension": ".py",
      "mimetype": "text/x-python",
      "name": "python",
      "nbconvert_exporter": "python",
      "pygments_lexer": "ipython3",
      "version": "3.11.0"
    },
    "colab": {
      "provenance": []
    }
  },
  "nbformat": 4,
  "nbformat_minor": 5
}