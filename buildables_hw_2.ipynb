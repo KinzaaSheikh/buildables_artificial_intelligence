{
  "nbformat": 4,
  "nbformat_minor": 0,
  "metadata": {
    "colab": {
      "provenance": [],
      "authorship_tag": "ABX9TyOwLI25fAVWXAIO+StO+Tzl",
      "include_colab_link": true
    },
    "kernelspec": {
      "name": "python3",
      "display_name": "Python 3"
    },
    "language_info": {
      "name": "python"
    }
  },
  "cells": [
    {
      "cell_type": "markdown",
      "metadata": {
        "id": "view-in-github",
        "colab_type": "text"
      },
      "source": [
        "<a href=\"https://colab.research.google.com/github/KinzaaSheikh/buildables_artificial_intelligence/blob/main/buildables_hw_2.ipynb\" target=\"_parent\"><img src=\"https://colab.research.google.com/assets/colab-badge.svg\" alt=\"Open In Colab\"/></a>"
      ]
    },
    {
      "cell_type": "markdown",
      "source": [
        "# 🌟 Assignments 🌟"
      ],
      "metadata": {
        "id": "_6hvZTDlPYxv"
      }
    },
    {
      "cell_type": "markdown",
      "source": [
        "## 📝 Assignment 1: LLM Understanding\n",
        "\n",
        "Write a short note (3–4 sentences) explaining the difference between encoder-only, decoder-only, and encoder-decoder LLMs.\n",
        "Give one example usage of each."
      ],
      "metadata": {
        "id": "fn5G6w0pPc5J"
      }
    },
    {
      "cell_type": "markdown",
      "source": [
        "\n",
        "## 📝 Assignment 2: STT/TTS Exploration\n",
        "\n",
        "Find one STT model and one TTS model (other than Whisper/Google).\n",
        "\n",
        "Write down:\n",
        "\n",
        "What it does.\n",
        "One possible application.\n",
        "\n"
      ],
      "metadata": {
        "id": "WijiMZbqPI9M"
      }
    },
    {
      "cell_type": "markdown",
      "source": [
        "## 📝 Assignment 3: Build a Chatbot with Memory\n",
        "\n",
        "Write a Python program that:\n",
        "\n",
        "Takes user input in a loop.\n",
        "Sends it to Groq API.\n",
        "Stores the last 5 messages in memory.\n",
        "Ends when user types \"quit\"."
      ],
      "metadata": {
        "id": "Odj1o5zjP6pr"
      }
    },
    {
      "cell_type": "markdown",
      "source": [
        "\n",
        "## 📝 Assignment 4: Preprocessing Function\n",
        "\n",
        "Write a function to clean user input:\n",
        "\n",
        "Lowercase text.\n",
        "Remove punctuation.\n",
        "Strip extra spaces.\n",
        "Test with: \"  HELLo!!!  How ARE you?? \"\n"
      ],
      "metadata": {
        "id": "PKTSn65YQAH2"
      }
    },
    {
      "cell_type": "markdown",
      "source": [
        "## 📝 Assignment 5: Text Preprocessing\n",
        "\n",
        "Write a function that:\n",
        "\n",
        "Converts text to lowercase.\n",
        "Removes punctuation & numbers.\n",
        "Removes stopwords (the, is, and...).\n",
        "Applies stemming or lemmatization.\n",
        "Removes words shorter than 3 characters.\n",
        "Keeps only nouns, verbs, and adjectives (using POS tagging).\n"
      ],
      "metadata": {
        "id": "i4j3FjUhQF_R"
      }
    },
    {
      "cell_type": "markdown",
      "source": [
        "## 📝 Assignment 6: Reflection\n",
        "\n",
        "Answer in 2–3 sentences:\n",
        "\n",
        "Why is context memory important in chatbots?\n",
        "Why should beginners always check API limits and pricing?"
      ],
      "metadata": {
        "id": "PA2x5FE-QKbb"
      }
    },
    {
      "cell_type": "code",
      "execution_count": null,
      "metadata": {
        "id": "yvAr-x3HPH6o"
      },
      "outputs": [],
      "source": []
    }
  ]
}