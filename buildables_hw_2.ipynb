{
  "nbformat": 4,
  "nbformat_minor": 0,
  "metadata": {
    "colab": {
      "provenance": [],
      "authorship_tag": "ABX9TyM05I445ndGoCEcYwwjdp7X",
      "include_colab_link": true
    },
    "kernelspec": {
      "name": "python3",
      "display_name": "Python 3"
    },
    "language_info": {
      "name": "python"
    }
  },
  "cells": [
    {
      "cell_type": "markdown",
      "metadata": {
        "id": "view-in-github",
        "colab_type": "text"
      },
      "source": [
        "<a href=\"https://colab.research.google.com/github/KinzaaSheikh/buildables_artificial_intelligence/blob/main/buildables_hw_2.ipynb\" target=\"_parent\"><img src=\"https://colab.research.google.com/assets/colab-badge.svg\" alt=\"Open In Colab\"/></a>"
      ]
    },
    {
      "cell_type": "markdown",
      "source": [
        "# 🌟 Assignments 🌟"
      ],
      "metadata": {
        "id": "_6hvZTDlPYxv"
      }
    },
    {
      "cell_type": "markdown",
      "source": [
        "## 📝 Assignment 1: LLM Understanding\n",
        "\n",
        "Write a short note (3–4 sentences) explaining the difference between encoder-only, decoder-only, and encoder-decoder LLMs.\n",
        "Give one example usage of each."
      ],
      "metadata": {
        "id": "fn5G6w0pPc5J"
      }
    },
    {
      "cell_type": "markdown",
      "source": [
        "**Encoder-only** Only for encoding, aka text understanding -- usecases includes sentiment analysis or embeddings\n",
        "\n",
        "**Decoder-only** Only for generation, can be useful in chatbots\n",
        "\n",
        "**Encoder-decoder** The transformer models that take in inputs and transform them in generative AI"
      ],
      "metadata": {
        "id": "X2i4NpV2xB1c"
      }
    },
    {
      "cell_type": "markdown",
      "source": [
        "\n",
        "## 📝 Assignment 2: STT/TTS Exploration\n",
        "\n",
        "### Find one STT model and one TTS model (other than Whisper/Google).\n",
        "\n",
        "Write down: Elevenlabs and Tacotron 2\n",
        "\n",
        "\n",
        "\n",
        "### What it does. One possible application.\n",
        "\n",
        "Can create speech from input texts for AI generated videos.\n",
        "\n",
        "I also transcribe my lectures using TTS models\n",
        "\n"
      ],
      "metadata": {
        "id": "WijiMZbqPI9M"
      }
    },
    {
      "cell_type": "markdown",
      "source": [
        "## 📝 Assignment 3: Build a Chatbot with Memory\n",
        "\n",
        "Write a Python program that:\n",
        "\n",
        "Takes user input in a loop.\n",
        "Sends it to Groq API.\n",
        "Stores the last 5 messages in memory.\n",
        "Ends when user types \"quit\"."
      ],
      "metadata": {
        "id": "Odj1o5zjP6pr"
      }
    },
    {
      "cell_type": "code",
      "source": [
        "# Used to securely store your API key\n",
        "from google.colab import userdata\n",
        "\n",
        "# Access the API key from Colab secrets\n",
        "groq_api_key = userdata.get('GROQ_API_KEY')\n",
        "\n",
        "# Now you can use the groq_api_key in your code, for example:\n",
        "# client = Groq(api_key=groq_api_key)"
      ],
      "metadata": {
        "id": "l2jVFAUL10ip"
      },
      "execution_count": 1,
      "outputs": []
    },
    {
      "cell_type": "code",
      "source": [
        "!pip install -qU groq"
      ],
      "metadata": {
        "colab": {
          "base_uri": "https://localhost:8080/"
        },
        "id": "YofrxfVT2J7Y",
        "outputId": "fe5c51e7-7f8d-4a20-9caa-b30b2ae725a3"
      },
      "execution_count": 2,
      "outputs": [
        {
          "output_type": "stream",
          "name": "stdout",
          "text": [
            "\u001b[?25l   \u001b[90m━━━━━━━━━━━━━━━━━━━━━━━━━━━━━━━━━━━━━━━━\u001b[0m \u001b[32m0.0/131.4 kB\u001b[0m \u001b[31m?\u001b[0m eta \u001b[36m-:--:--\u001b[0m\r\u001b[2K   \u001b[90m━━━━━━━━━━━━━━━━━━━━━━━━━━━━━━━━━━━━━━━━\u001b[0m \u001b[32m131.4/131.4 kB\u001b[0m \u001b[31m4.1 MB/s\u001b[0m eta \u001b[36m0:00:00\u001b[0m\n",
            "\u001b[?25h"
          ]
        }
      ]
    },
    {
      "cell_type": "code",
      "source": [
        "from groq import Groq\n",
        "\n",
        "client = Groq(api_key=groq_api_key)\n",
        "\n",
        "response = client.chat.completions.create(\n",
        "    model=\"llama-3.1-8b-instant\",\n",
        "    messages=[{\"role\": \"user\", \"content\": \"Hello! What is conversational AI?\"}]\n",
        ")\n",
        "\n",
        "print(response.choices[0].message.content)"
      ],
      "metadata": {
        "colab": {
          "base_uri": "https://localhost:8080/"
        },
        "id": "wUQX0Gdp1ezl",
        "outputId": "815b4880-5a32-43b3-b74f-3267ee1eba3d"
      },
      "execution_count": 4,
      "outputs": [
        {
          "output_type": "stream",
          "name": "stdout",
          "text": [
            "Conversational AI, also known as conversational systems or chatbots, is a type of artificial intelligence (AI) that enables computers to understand and generate human-like conversations. It's designed to simulate a conversation with humans, using natural language processing (NLP) and machine learning algorithms.\n",
            "\n",
            "Conversational AI systems can:\n",
            "\n",
            "1. **Understand natural language**: They can interpret the intent and meaning behind human language, including nuances, idioms, and context.\n",
            "2. **Respond accordingly**: Based on the input, they generate a response that's relevant, accurate, and even personalized.\n",
            "3. **Engage in dialogue**: They can have a back-and-forth conversation, asking questions, seeking clarification, and adapting to the conversation.\n",
            "4. **Learn and improve**: Through interactions, conversational AI systems can learn from data, refine their responses, and even develop their own personality.\n",
            "\n",
            "Conversational AI is used in various applications, such as:\n",
            "\n",
            "1. **Virtual assistants**: Siri, Google Assistant, and Alexa are popular examples.\n",
            "2. **Customer support**: Chatbots help resolve customer inquiries and issues in real-time.\n",
            "3. **Language translation**: Conversational AI systems can translate languages in real-time.\n",
            "4. **Healthcare**: AI-powered chatbots assist with patient diagnosis, treatment, and follow-ups.\n",
            "5. **Entertainment**: Chatbots can engage in games, storytelling, or even create customized content.\n",
            "\n",
            "Conversational AI has numerous benefits, including:\n",
            "\n",
            "1. **Improved customer experience**\n",
            "2. **Increased efficiency**\n",
            "3. **Enhanced engagement**\n",
            "4. **Reduced costs**\n",
            "5. **24/7 availability**\n",
            "\n",
            "However, conversational AI also raises important questions about:\n",
            "\n",
            "1. **Privacy**: Handling personal data and maintaining user trust.\n",
            "2. **Security**: Preventing hacking and ensuring data protection.\n",
            "3. **Biases**: Mitigating biases and ensuring fairness in AI decision-making.\n",
            "\n",
            "Overall, conversational AI is an exciting and rapidly evolving field that's transforming the way we interact with technology.\n"
          ]
        }
      ]
    },
    {
      "cell_type": "markdown",
      "source": [
        "\n",
        "## 📝 Assignment 4: Preprocessing Function\n",
        "\n",
        "Write a function to clean user input:\n",
        "\n",
        "Lowercase text.\n",
        "Remove punctuation.\n",
        "Strip extra spaces.\n",
        "Test with: \"  HELLo!!!  How ARE you?? \"\n"
      ],
      "metadata": {
        "id": "PKTSn65YQAH2"
      }
    },
    {
      "cell_type": "markdown",
      "source": [
        "## 📝 Assignment 5: Text Preprocessing\n",
        "\n",
        "Write a function that:\n",
        "\n",
        "Converts text to lowercase.\n",
        "Removes punctuation & numbers.\n",
        "Removes stopwords (the, is, and...).\n",
        "Applies stemming or lemmatization.\n",
        "Removes words shorter than 3 characters.\n",
        "Keeps only nouns, verbs, and adjectives (using POS tagging).\n"
      ],
      "metadata": {
        "id": "i4j3FjUhQF_R"
      }
    },
    {
      "cell_type": "markdown",
      "source": [
        "## 📝 Assignment 6: Reflection\n",
        "\n",
        "Answer in 2–3 sentences:\n",
        "\n",
        "Why is context memory important in chatbots?\n",
        "Why should beginners always check API limits and pricing?"
      ],
      "metadata": {
        "id": "PA2x5FE-QKbb"
      }
    },
    {
      "cell_type": "code",
      "execution_count": null,
      "metadata": {
        "id": "yvAr-x3HPH6o"
      },
      "outputs": [],
      "source": []
    }
  ]
}