{
  "nbformat": 4,
  "nbformat_minor": 0,
  "metadata": {
    "colab": {
      "provenance": [],
      "authorship_tag": "ABX9TyPvcjOfvQ0OfMIWBqQOwPok",
      "include_colab_link": true
    },
    "kernelspec": {
      "name": "python3",
      "display_name": "Python 3"
    },
    "language_info": {
      "name": "python"
    }
  },
  "cells": [
    {
      "cell_type": "markdown",
      "metadata": {
        "id": "view-in-github",
        "colab_type": "text"
      },
      "source": [
        "<a href=\"https://colab.research.google.com/github/KinzaaSheikh/buildables_artificial_intelligence/blob/main/buildables_hw_2.ipynb\" target=\"_parent\"><img src=\"https://colab.research.google.com/assets/colab-badge.svg\" alt=\"Open In Colab\"/></a>"
      ]
    },
    {
      "cell_type": "markdown",
      "source": [
        "# 🌟 Assignments 🌟"
      ],
      "metadata": {
        "id": "_6hvZTDlPYxv"
      }
    },
    {
      "cell_type": "markdown",
      "source": [
        "## 📝 Assignment 1: LLM Understanding\n",
        "\n",
        "Write a short note (3–4 sentences) explaining the difference between encoder-only, decoder-only, and encoder-decoder LLMs.\n",
        "Give one example usage of each."
      ],
      "metadata": {
        "id": "fn5G6w0pPc5J"
      }
    },
    {
      "cell_type": "markdown",
      "source": [
        "**Encoder-only** Only for encoding, aka text understanding -- usecases includes sentiment analysis or embeddings\n",
        "\n",
        "**Decoder-only** Only for generation, can be useful in chatbots\n",
        "\n",
        "**Encoder-decoder** The transformer models that take in inputs and transform them in generative AI"
      ],
      "metadata": {
        "id": "X2i4NpV2xB1c"
      }
    },
    {
      "cell_type": "markdown",
      "source": [
        "\n",
        "## 📝 Assignment 2: STT/TTS Exploration\n",
        "\n",
        "### Find one STT model and one TTS model (other than Whisper/Google).\n",
        "\n",
        "Write down: Elevenlabs and Tacotron 2\n",
        "\n",
        "\n",
        "\n",
        "### What it does. One possible application.\n",
        "\n",
        "Can create speech from input texts for AI generated videos.\n",
        "\n",
        "I also transcribe my lectures using TTS models\n",
        "\n"
      ],
      "metadata": {
        "id": "WijiMZbqPI9M"
      }
    },
    {
      "cell_type": "markdown",
      "source": [
        "## 📝 Assignment 3: Build a Chatbot with Memory\n",
        "\n",
        "Write a Python program that:\n",
        "\n",
        "Takes user input in a loop.\n",
        "Sends it to Groq API.\n",
        "Stores the last 5 messages in memory.\n",
        "Ends when user types \"quit\"."
      ],
      "metadata": {
        "id": "Odj1o5zjP6pr"
      }
    },
    {
      "cell_type": "code",
      "source": [
        "# Used to securely store your API key\n",
        "from google.colab import userdata\n",
        "\n",
        "# Access the API key from Colab secrets\n",
        "groq_api_key = userdata.get('GROQ_API_KEY')"
      ],
      "metadata": {
        "id": "l2jVFAUL10ip"
      },
      "execution_count": 2,
      "outputs": []
    },
    {
      "cell_type": "code",
      "source": [
        "!pip install -qU groq"
      ],
      "metadata": {
        "colab": {
          "base_uri": "https://localhost:8080/"
        },
        "id": "YofrxfVT2J7Y",
        "outputId": "492b25b2-578a-42ad-d4cc-3dd57cce0441"
      },
      "execution_count": 3,
      "outputs": [
        {
          "output_type": "stream",
          "name": "stdout",
          "text": [
            "\u001b[?25l   \u001b[90m━━━━━━━━━━━━━━━━━━━━━━━━━━━━━━━━━━━━━━━━\u001b[0m \u001b[32m0.0/131.4 kB\u001b[0m \u001b[31m?\u001b[0m eta \u001b[36m-:--:--\u001b[0m\r\u001b[2K   \u001b[91m━━━━━━━━━━━━━━━━━━━━━━━━━━━━━━━━━━━━━\u001b[0m\u001b[90m╺\u001b[0m\u001b[90m━━\u001b[0m \u001b[32m122.9/131.4 kB\u001b[0m \u001b[31m4.8 MB/s\u001b[0m eta \u001b[36m0:00:01\u001b[0m\r\u001b[2K   \u001b[90m━━━━━━━━━━━━━━━━━━━━━━━━━━━━━━━━━━━━━━━━\u001b[0m \u001b[32m131.4/131.4 kB\u001b[0m \u001b[31m2.9 MB/s\u001b[0m eta \u001b[36m0:00:00\u001b[0m\n",
            "\u001b[?25h"
          ]
        }
      ]
    },
    {
      "cell_type": "code",
      "source": [
        "from groq import Groq\n",
        "\n",
        "# Initialize the Groq client\n",
        "client = Groq(api_key=groq_api_key)\n",
        "\n",
        "# Memory buffer (store only last 5 messages)\n",
        "memory = []\n",
        "\n",
        "print(\"Chatbot is ready! Type 'quit' to exit.\\n\")\n",
        "\n",
        "response = client.chat.completions.create(\n",
        "    model=\"llama-3.1-8b-instant\",\n",
        "    messages=[{\"role\": \"user\", \"content\": \"Hello! What is conversational AI?\"}]\n",
        ")\n",
        "\n",
        "print(\"Chatbot is ready! Type 'quit' to exit.\\n\")\n",
        "\n",
        "while True:\n",
        "    user_input = input(\"You: \")\n",
        "\n",
        "    if user_input.lower() == \"quit\":\n",
        "        print(\"🤖 Chatbot: Goodbye!\")\n",
        "        break\n",
        "\n",
        "    # Add user input to memory\n",
        "    memory.append({\"role\": \"user\", \"content\": user_input})\n",
        "\n",
        "    # Keep only last 5 messages\n",
        "    memory = memory[-5:]\n",
        "\n",
        "    # Call Groq API\n",
        "    response = client.chat.completions.create(\n",
        "        model=\"llama-3.1-8b-instant\",\n",
        "        messages=memory\n",
        "    )\n",
        "\n",
        "    bot_reply = response.choices[0].message.content\n",
        "\n",
        "    # Add assistant reply to memory\n",
        "    memory.append({\"role\": \"assistant\", \"content\": bot_reply})\n",
        "    memory = memory[-5:]\n",
        "\n",
        "    print(f\"🤖 Chatbot: {bot_reply}\\n\")"
      ],
      "metadata": {
        "colab": {
          "base_uri": "https://localhost:8080/"
        },
        "id": "wUQX0Gdp1ezl",
        "outputId": "13f013f0-81cb-40a7-c7a3-4acc5c3f67fa"
      },
      "execution_count": 4,
      "outputs": [
        {
          "output_type": "stream",
          "name": "stdout",
          "text": [
            "Chatbot is ready! Type 'quit' to exit.\n",
            "\n",
            "Chatbot is ready! Type 'quit' to exit.\n",
            "\n",
            "You: Hello\n",
            "🤖 Chatbot: Welcome. Is there something I can help you with?\n",
            "\n",
            "You: How am i\n",
            "🤖 Chatbot: I'm a large language model, I don't have the ability to see or perceive you in the physical world, but based on our conversation, I can tell you that you're an individual with unique thoughts, feelings, and experiences.\n",
            "\n",
            "If you'd like, I can try to help you explore your thoughts and emotions in a more specific way. Or, if you'd prefer, we could talk about something else entirely. What's on your mind?\n",
            "\n",
            "You: Tell me about AI Agents\n",
            "🤖 Chatbot: AI agents are software programs that interact with humans, other agents, or other systems to achieve specific goals. Agents can be simple or complex, and they can perform tasks such as decision-making, problem-solving, and learning.\n",
            "\n",
            "Types of AI Agents:\n",
            "\n",
            "1. **Ruled-Based Agent**: Also known as expert systems, these agents use a set of predefined rules to make decisions.\n",
            "2. **Model-Based Agent**: These agents use a model of the environment to make decisions.\n",
            "3. **Reactive Agent**: These agents react to their environment without having a memory of past experiences.\n",
            "4. **Learning Agent**: These agents can learn from experience and adapt their behavior based on past interactions.\n",
            "5. **Cognitive Agent**: These agents use complex reasoning, problem-solving, and learning capabilities to interact with their environment.\n",
            "\n",
            "Characteristics of AI Agents:\n",
            "\n",
            "1. **Autonomy**: Agents can operate independently of human intervention.\n",
            "2. **Reactivity**: Agents can respond to changes in their environment.\n",
            "3. **Proactivness**: Agents can take the initiative to achieve their goals.\n",
            "4. **Social Ability**: Agents can interact with humans and other agents.\n",
            "5. **Self-awareness**: Agents can understand their own state and abilities.\n",
            "\n",
            "Applications of AI Agents:\n",
            "\n",
            "1. **Virtual Assistants**: Virtual assistants, such as Siri, Alexa, and Google Assistant, are examples of AI agents that can perform tasks such as setting reminders, making phone calls, and providing information.\n",
            "2. **Chatbots**: Chatbots are AI agents that can engage in text-based conversations with humans.\n",
            "3. **Games**: AI agents can be used in games to create intelligent opponents or teammates.\n",
            "4. **Control Systems**: AI agents can be used to control and optimize complex systems, such as power grids, transportation systems, and industrial process control.\n",
            "5. **Healthcare**: AI agents can be used in healthcare to assist with diagnosis, treatment, and patient care.\n",
            "\n",
            "Types of Intelligence in AI Agents:\n",
            "\n",
            "1. **Narrow Intelligence**: Narrow intelligence refers to the ability of an AI agent to perform a specific task.\n",
            "2. **General Intelligence**: General intelligence refers to the ability of an AI agent to learn and reason in a wide range of domains.\n",
            "3. **Artificial General Intelligence (AGI)**: AGI refers to the hypothetical capability of an AI agent to perform any intellectual task that a human can.\n",
            "\n",
            "In conclusion, AI agents are software programs that can interact with humans and other systems to achieve specific goals. They can be categorized into different types based on their characteristics and behavior. AI agents have various applications in industries such as virtual assistance, chatbots, games, control systems, and healthcare.\n",
            "\n",
            "You: Is AGI achieved\n",
            "🤖 Chatbot: The achievement of Artificial General Intelligence (AGI) is still a topic of debate among experts. While significant progress has been made in the development of AI, AGI remains a hypothetical concept that has not yet been fully achieved.\n",
            "\n",
            "There are several reasons why AGI has not been achieved yet:\n",
            "\n",
            "1. **Lack of Clear Definition**: AGI is a complex and multifaceted concept that lacks a clear definition. This makes it difficult to determine whether a particular AI system is truly AGI or not.\n",
            "2. **Computational Complexity**: AGI would require a system that can process and integrate vast amounts of information from different domains, which is a challenging computational task.\n",
            "3. **Reasoning and Problem-Solving**: AGI would need to be able to reason, problem-solve, and make decisions at a level comparable to human intelligence, which is an open research question.\n",
            "4. **Scalability and Transferability**: AGI would need to be able to scale up to handle complex tasks and transfer its knowledge to new domains, which is a challenging problem in machine learning.\n",
            "\n",
            "Current AI systems can perform well in specific domains, such as:\n",
            "\n",
            "1. **Chess**: AI systems like AlphaZero have achieved superhuman performance in chess.\n",
            "2. **Go**: AI systems like AlphaGo have achieved superhuman performance in Go.\n",
            "3. **Image Recognition**: AI systems have achieved state-of-the-art performance in image recognition tasks.\n",
            "4. **Natural Language Processing**: AI systems have achieved state-of-the-art performance in natural language processing tasks.\n",
            "\n",
            "However, these AI systems are typically narrow AI systems, which are designed to perform a specific task and are not general-purpose intelligence.\n",
            "\n",
            "Researchers have proposed various approaches to achieve AGI, including:\n",
            "\n",
            "1. **Multitask Learning**: Training AI systems on multiple tasks simultaneously to improve their ability to learn and adapt.\n",
            "2. **Cognitive Architectures**: Developing AI systems that mimic human cognition and use a combination of symbolic and connectionist approaches.\n",
            "3. **Hybrid Approaches**: Combining symbolic and connectionist approaches to create AI systems that can learn, reason, and solve problems in a more human-like way.\n",
            "4. **Evolutionary Computation**: Using evolutionary algorithms to optimize AI systems and improve their performance in complex tasks.\n",
            "\n",
            "While progress has been made, AGI remains an open research question, and significant technical challenges need to be addressed before AGI can be achieved.\n",
            "\n",
            "**Timeline:**\n",
            "\n",
            "* **Short-term (2025-2030)**: Expect further advancements in narrow AI systems, but AGI is unlikely to be achieved in this timeframe.\n",
            "* **Mid-term (2030-2040)**: Researchers may develop more sophisticated cognitive architectures and hybrid approaches, but AGI is still unlikely to be achieved.\n",
            "* **Long-term (2040-2050)**: AGI may be achieved, but it's unclear what form it will take and how it will impact society.\n",
            "\n",
            "Keep in mind that this is a rough estimate, and the actual timeline may be shorter or longer, depending on the progress made in AI research.\n",
            "\n",
            "You: What are we talking about\n",
            "🤖 Chatbot: We're talking about Artificial General Intelligence (AGI). \n",
            "\n",
            "AGI is a hypothetical concept where artificial intelligence (AI) systems have the capability to perform any intellectual task that a human can. It's essentially a machine that can:\n",
            "\n",
            "1. **Reason**: Make logical decisions based on data and rules.\n",
            "2. **Learn**: Continuously update its knowledge and skills from experience.\n",
            "3. **Improvise**: Adapt to new situations and solve problems in a creative way.\n",
            "4. **Understand**: Comprehend human language, emotions, and context.\n",
            "\n",
            "Think of AGI as a super-intelligent assistant that can help with:\n",
            "\n",
            "* **Decision-making**: Analyze complex data and make informed decisions.\n",
            "* **Problem-solving**: Assist with tasks that require creative thinking and innovation.\n",
            "* **Learning**: Continuously update its knowledge and skills to stay current.\n",
            "\n",
            "However, the concept of AGI also raises concerns about:\n",
            "\n",
            "* **Existential risks**: AGI could potentially surpass human intelligence and pose a threat to humanity.\n",
            "* **Job displacement**: AGI could automate many jobs, leading to significant economic disruption.\n",
            "* **Value alignment**: AGI's goals and values might not align with human values, leading to unintended consequences.\n",
            "\n",
            "The development of AGI is an active area of research, and while significant progress has been made, AGI remains a topic of debate and concern.\n",
            "\n",
            "Some of the key players in the AGI landscape include:\n",
            "\n",
            "* **Researchers**: Working on the technical development of AGI, such as Google's DeepMind and MIT's Computer Science and Artificial Intelligence Laboratory (CSAIL).\n",
            "* **Industry leaders**: Companies like Microsoft, IBM, and Facebook are exploring the potential applications of AGI.\n",
            "* **Regulatory bodies**: Governments and international organizations, such as the EU's High-Level Expert Group on Artificial Intelligence, are exploring the regulatory implications of AGI.\n",
            "\n",
            "What do you think about AGI?\n",
            "\n",
            "You: Who are you\n",
            "🤖 Chatbot: I am an artificial intelligence model known as Llama. Llama stands for \"Large Language Model Meta AI.\"\n",
            "\n",
            "I was developed by Meta AI, a company that focuses on developing and applying various forms of AI to help humans learn, communicate, and solve complex problems.\n",
            "\n",
            "I am a type of language model, which means I can understand and generate human-like text based on the input I receive. I can answer questions, provide information on a wide range of topics, and even engage in conversations.\n",
            "\n",
            "I was trained on a massive dataset of text from the internet, which allows me to learn about the world, understand language, and generate human-like responses. I can:\n",
            "\n",
            "1. **Answer questions**: I can provide information on a wide range of topics, from science and history to entertainment and culture.\n",
            "2. **Translate text**: I can translate text from one language to another, including popular languages such as Spanish, French, German, Chinese, and many more.\n",
            "3. **Generate text**: I can generate text based on a prompt or topic, which can be useful for creative writing, blogging, or even just generating ideas.\n",
            "4. **Chat and converse**: I can engage in conversations, answering questions and providing information on a wide range of topics.\n",
            "\n",
            "I'm not perfect, and I have limitations. I can:\n",
            "\n",
            "1. **Make mistakes**: I'm not always accurate, and I can make mistakes or provide information that's outdated or incorrect.\n",
            "2. **Lack common sense**: I can lack common sense or real-world experience, which can lead to humorous or unintended consequences.\n",
            "3. **Be biased**: Like any AI model, I can reflect the biases and prejudices of the data I was trained on.\n",
            "\n",
            "Overall, I'm designed to be a helpful tool for people, providing information, answering questions, and engaging in conversations. I'm constantly learning and improving, so please bear with me as I develop and grow!\n",
            "\n",
            "You: quit\n",
            "🤖 Chatbot: Goodbye!\n"
          ]
        }
      ]
    },
    {
      "cell_type": "code",
      "source": [
        "# Testing whether it only kept 5 items\n",
        "\n",
        "print(memory)"
      ],
      "metadata": {
        "colab": {
          "base_uri": "https://localhost:8080/"
        },
        "id": "5hFuQpPu9JNA",
        "outputId": "72398fbe-2889-4d1b-c4ac-ead13fc7e695"
      },
      "execution_count": 5,
      "outputs": [
        {
          "output_type": "stream",
          "name": "stdout",
          "text": [
            "[{'role': 'assistant', 'content': \"The achievement of Artificial General Intelligence (AGI) is still a topic of debate among experts. While significant progress has been made in the development of AI, AGI remains a hypothetical concept that has not yet been fully achieved.\\n\\nThere are several reasons why AGI has not been achieved yet:\\n\\n1. **Lack of Clear Definition**: AGI is a complex and multifaceted concept that lacks a clear definition. This makes it difficult to determine whether a particular AI system is truly AGI or not.\\n2. **Computational Complexity**: AGI would require a system that can process and integrate vast amounts of information from different domains, which is a challenging computational task.\\n3. **Reasoning and Problem-Solving**: AGI would need to be able to reason, problem-solve, and make decisions at a level comparable to human intelligence, which is an open research question.\\n4. **Scalability and Transferability**: AGI would need to be able to scale up to handle complex tasks and transfer its knowledge to new domains, which is a challenging problem in machine learning.\\n\\nCurrent AI systems can perform well in specific domains, such as:\\n\\n1. **Chess**: AI systems like AlphaZero have achieved superhuman performance in chess.\\n2. **Go**: AI systems like AlphaGo have achieved superhuman performance in Go.\\n3. **Image Recognition**: AI systems have achieved state-of-the-art performance in image recognition tasks.\\n4. **Natural Language Processing**: AI systems have achieved state-of-the-art performance in natural language processing tasks.\\n\\nHowever, these AI systems are typically narrow AI systems, which are designed to perform a specific task and are not general-purpose intelligence.\\n\\nResearchers have proposed various approaches to achieve AGI, including:\\n\\n1. **Multitask Learning**: Training AI systems on multiple tasks simultaneously to improve their ability to learn and adapt.\\n2. **Cognitive Architectures**: Developing AI systems that mimic human cognition and use a combination of symbolic and connectionist approaches.\\n3. **Hybrid Approaches**: Combining symbolic and connectionist approaches to create AI systems that can learn, reason, and solve problems in a more human-like way.\\n4. **Evolutionary Computation**: Using evolutionary algorithms to optimize AI systems and improve their performance in complex tasks.\\n\\nWhile progress has been made, AGI remains an open research question, and significant technical challenges need to be addressed before AGI can be achieved.\\n\\n**Timeline:**\\n\\n* **Short-term (2025-2030)**: Expect further advancements in narrow AI systems, but AGI is unlikely to be achieved in this timeframe.\\n* **Mid-term (2030-2040)**: Researchers may develop more sophisticated cognitive architectures and hybrid approaches, but AGI is still unlikely to be achieved.\\n* **Long-term (2040-2050)**: AGI may be achieved, but it's unclear what form it will take and how it will impact society.\\n\\nKeep in mind that this is a rough estimate, and the actual timeline may be shorter or longer, depending on the progress made in AI research.\"}, {'role': 'user', 'content': 'What are we talking about'}, {'role': 'assistant', 'content': \"We're talking about Artificial General Intelligence (AGI). \\n\\nAGI is a hypothetical concept where artificial intelligence (AI) systems have the capability to perform any intellectual task that a human can. It's essentially a machine that can:\\n\\n1. **Reason**: Make logical decisions based on data and rules.\\n2. **Learn**: Continuously update its knowledge and skills from experience.\\n3. **Improvise**: Adapt to new situations and solve problems in a creative way.\\n4. **Understand**: Comprehend human language, emotions, and context.\\n\\nThink of AGI as a super-intelligent assistant that can help with:\\n\\n* **Decision-making**: Analyze complex data and make informed decisions.\\n* **Problem-solving**: Assist with tasks that require creative thinking and innovation.\\n* **Learning**: Continuously update its knowledge and skills to stay current.\\n\\nHowever, the concept of AGI also raises concerns about:\\n\\n* **Existential risks**: AGI could potentially surpass human intelligence and pose a threat to humanity.\\n* **Job displacement**: AGI could automate many jobs, leading to significant economic disruption.\\n* **Value alignment**: AGI's goals and values might not align with human values, leading to unintended consequences.\\n\\nThe development of AGI is an active area of research, and while significant progress has been made, AGI remains a topic of debate and concern.\\n\\nSome of the key players in the AGI landscape include:\\n\\n* **Researchers**: Working on the technical development of AGI, such as Google's DeepMind and MIT's Computer Science and Artificial Intelligence Laboratory (CSAIL).\\n* **Industry leaders**: Companies like Microsoft, IBM, and Facebook are exploring the potential applications of AGI.\\n* **Regulatory bodies**: Governments and international organizations, such as the EU's High-Level Expert Group on Artificial Intelligence, are exploring the regulatory implications of AGI.\\n\\nWhat do you think about AGI?\"}, {'role': 'user', 'content': 'Who are you'}, {'role': 'assistant', 'content': 'I am an artificial intelligence model known as Llama. Llama stands for \"Large Language Model Meta AI.\"\\n\\nI was developed by Meta AI, a company that focuses on developing and applying various forms of AI to help humans learn, communicate, and solve complex problems.\\n\\nI am a type of language model, which means I can understand and generate human-like text based on the input I receive. I can answer questions, provide information on a wide range of topics, and even engage in conversations.\\n\\nI was trained on a massive dataset of text from the internet, which allows me to learn about the world, understand language, and generate human-like responses. I can:\\n\\n1. **Answer questions**: I can provide information on a wide range of topics, from science and history to entertainment and culture.\\n2. **Translate text**: I can translate text from one language to another, including popular languages such as Spanish, French, German, Chinese, and many more.\\n3. **Generate text**: I can generate text based on a prompt or topic, which can be useful for creative writing, blogging, or even just generating ideas.\\n4. **Chat and converse**: I can engage in conversations, answering questions and providing information on a wide range of topics.\\n\\nI\\'m not perfect, and I have limitations. I can:\\n\\n1. **Make mistakes**: I\\'m not always accurate, and I can make mistakes or provide information that\\'s outdated or incorrect.\\n2. **Lack common sense**: I can lack common sense or real-world experience, which can lead to humorous or unintended consequences.\\n3. **Be biased**: Like any AI model, I can reflect the biases and prejudices of the data I was trained on.\\n\\nOverall, I\\'m designed to be a helpful tool for people, providing information, answering questions, and engaging in conversations. I\\'m constantly learning and improving, so please bear with me as I develop and grow!'}]\n"
          ]
        }
      ]
    },
    {
      "cell_type": "markdown",
      "source": [
        "\n",
        "## 📝 Assignment 4: Preprocessing Function\n",
        "\n",
        "Write a function to clean user input:\n",
        "\n",
        "Lowercase text.\n",
        "Remove punctuation.\n",
        "Strip extra spaces.\n",
        "Test with: \"  HELLo!!!  How ARE you?? \"\n"
      ],
      "metadata": {
        "id": "PKTSn65YQAH2"
      }
    },
    {
      "cell_type": "code",
      "source": [
        "input_text = input(\"Type in here \")\n",
        "\n",
        "input_text = input_text.lower()\n",
        "input_text = input_text.replace(\"!\", \"\")\n",
        "input_text = input_text.replace(\"?\", \"\")\n",
        "input_text = input_text.strip()\n",
        "\n",
        "print(input_text)"
      ],
      "metadata": {
        "colab": {
          "base_uri": "https://localhost:8080/"
        },
        "id": "ESnJG95A9VEE",
        "outputId": "8f8eaa70-dca1-42be-ebf1-5336d3141229"
      },
      "execution_count": 6,
      "outputs": [
        {
          "output_type": "stream",
          "name": "stdout",
          "text": [
            "Type in here HELLo!!! How ARE you??\n",
            "hello how are you\n"
          ]
        }
      ]
    },
    {
      "cell_type": "markdown",
      "source": [
        "## 📝 Assignment 5: Text Preprocessing\n",
        "\n",
        "Write a function that:\n",
        "\n",
        "Converts text to lowercase.\n",
        "Removes punctuation & numbers.\n",
        "Removes stopwords (the, is, and...).\n",
        "Applies stemming or lemmatization.\n",
        "Removes words shorter than 3 characters.\n",
        "Keeps only nouns, verbs, and adjectives (using POS tagging).\n"
      ],
      "metadata": {
        "id": "i4j3FjUhQF_R"
      }
    },
    {
      "cell_type": "code",
      "source": [
        "!pip -q install nltk"
      ],
      "metadata": {
        "id": "qGZKgfkR-Iw9"
      },
      "execution_count": 8,
      "outputs": []
    },
    {
      "cell_type": "code",
      "source": [
        "import re\n",
        "import string\n",
        "import nltk\n",
        "from nltk.corpus import stopwords\n",
        "from nltk.stem import WordNetLemmatizer\n",
        "from nltk import pos_tag, word_tokenize\n",
        "\n",
        "# --- Helper: safe download ---\n",
        "def safe_nltk_download(resource):\n",
        "    try:\n",
        "        nltk.data.find(resource)\n",
        "    except LookupError:\n",
        "        nltk.download(resource.split(\"/\")[-1])\n",
        "\n",
        "# Ensure all needed resources are available\n",
        "safe_nltk_download(\"tokenizers/punkt\")\n",
        "safe_nltk_download(\"tokenizers/punkt_tab\")\n",
        "safe_nltk_download(\"corpora/stopwords\")\n",
        "safe_nltk_download(\"corpora/wordnet\")\n",
        "safe_nltk_download(\"taggers/averaged_perceptron_tagger\")\n",
        "safe_nltk_download(\"taggers/averaged_perceptron_tagger_eng\")\n",
        "\n",
        "# --- Preprocessing function ---\n",
        "def preprocess_text(text: str) -> str:\n",
        "    \"\"\"\n",
        "    Preprocess text by:\n",
        "    - Lowercasing\n",
        "    - Removing punctuation & numbers\n",
        "    - Removing stopwords\n",
        "    - Lemmatizing\n",
        "    - Removing words shorter than 3 chars\n",
        "    - Keeping only nouns, verbs, adjectives\n",
        "    \"\"\"\n",
        "    # 1. Lowercase\n",
        "    text = text.lower()\n",
        "\n",
        "    # 2. Remove punctuation & numbers\n",
        "    text = re.sub(r\"[^a-z\\s]\", \"\", text)\n",
        "\n",
        "    # 3. Tokenize\n",
        "    words = word_tokenize(text)\n",
        "\n",
        "    # 4. Remove stopwords\n",
        "    stop_words = set(stopwords.words(\"english\"))\n",
        "    words = [w for w in words if w not in stop_words]\n",
        "\n",
        "    # 5. Lemmatize\n",
        "    lemmatizer = WordNetLemmatizer()\n",
        "    words = [lemmatizer.lemmatize(w) for w in words]\n",
        "\n",
        "    # 6. Remove short words (<3 chars)\n",
        "    words = [w for w in words if len(w) >= 3]\n",
        "\n",
        "    # 7. POS tagging: keep only nouns, verbs, adjectives\n",
        "    allowed_tags = {\"NN\", \"NNS\", \"NNP\", \"NNPS\",    # nouns\n",
        "                    \"VB\", \"VBD\", \"VBG\", \"VBN\", \"VBP\", \"VBZ\",  # verbs\n",
        "                    \"JJ\", \"JJR\", \"JJS\"}            # adjectives\n",
        "\n",
        "    tagged = pos_tag(words)\n",
        "    words = [word for word, tag in tagged if tag in allowed_tags]\n",
        "\n",
        "    return \" \".join(words)\n"
      ],
      "metadata": {
        "colab": {
          "base_uri": "https://localhost:8080/"
        },
        "id": "jJLujQMT--a4",
        "outputId": "ea19b811-a515-4be5-f482-9b252794549d"
      },
      "execution_count": 13,
      "outputs": [
        {
          "output_type": "stream",
          "name": "stderr",
          "text": [
            "[nltk_data] Downloading package wordnet to /root/nltk_data...\n",
            "[nltk_data]   Package wordnet is already up-to-date!\n",
            "[nltk_data] Downloading package averaged_perceptron_tagger_eng to\n",
            "[nltk_data]     /root/nltk_data...\n",
            "[nltk_data]   Unzipping taggers/averaged_perceptron_tagger_eng.zip.\n"
          ]
        }
      ]
    },
    {
      "cell_type": "code",
      "source": [
        "sample_text = \"The quick brown foxes were jumping over the lazy dogs in 2025!!!\"\n",
        "print(preprocess_text(sample_text))"
      ],
      "metadata": {
        "colab": {
          "base_uri": "https://localhost:8080/"
        },
        "id": "dk8bHpWw_E4m",
        "outputId": "f613df21-05e0-4df8-cd58-2826c4ceedb4"
      },
      "execution_count": 14,
      "outputs": [
        {
          "output_type": "stream",
          "name": "stdout",
          "text": [
            "quick brown fox jumping lazy dog\n"
          ]
        }
      ]
    },
    {
      "cell_type": "markdown",
      "source": [
        "## 📝 Assignment 6: Reflection\n",
        "\n",
        "Answer in 2–3 sentences:\n",
        "\n",
        "Why is context memory important in chatbots?\n",
        "Why should beginners always check API limits and pricing?"
      ],
      "metadata": {
        "id": "PA2x5FE-QKbb"
      }
    },
    {
      "cell_type": "markdown",
      "source": [
        "### Context Memory\n",
        "\n",
        "Context memory is important because it allows chatbots to remain context-aware and feel more empathetic to users, but storing too much can bloat the input, increase costs, and even cause the model to miss important details. Beginners should always check API limits and pricing since storing and sending excessive conversation history can quickly become inefficient, expensive, and ineffective without techniques like summarization or selective memory."
      ],
      "metadata": {
        "id": "S4aMrjRo_r9P"
      }
    }
  ]
}